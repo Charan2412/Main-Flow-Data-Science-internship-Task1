{
 "cells": [
  {
   "cell_type": "markdown",
   "id": "886529ca",
   "metadata": {},
   "source": [
    "LIST OPERATIONS"
   ]
  },
  {
   "cell_type": "code",
   "execution_count": 1,
   "id": "6d99a1c3",
   "metadata": {},
   "outputs": [
    {
     "name": "stdout",
     "output_type": "stream",
     "text": [
      "Original List: [1, 2, 3, 4, 5]\n"
     ]
    }
   ],
   "source": [
    "# Create a list\n",
    "my_list = [1, 2, 3, 4, 5]\n",
    "\n",
    "# Display original list\n",
    "print(\"Original List:\", my_list)"
   ]
  },
  {
   "cell_type": "code",
   "execution_count": 2,
   "id": "5db58aea",
   "metadata": {},
   "outputs": [
    {
     "name": "stdout",
     "output_type": "stream",
     "text": [
      "List after adding elements: [1, 2, 3, 4, 5, 6]\n"
     ]
    }
   ],
   "source": [
    "# Adding elements\n",
    "my_list.append(6)\n",
    "\n",
    "# Display after adding elements\n",
    "print(\"List after adding elements:\", my_list)"
   ]
  },
  {
   "cell_type": "code",
   "execution_count": 3,
   "id": "8a067730",
   "metadata": {},
   "outputs": [
    {
     "name": "stdout",
     "output_type": "stream",
     "text": [
      "List after removing elements: [1, 2, 4, 5, 6]\n"
     ]
    }
   ],
   "source": [
    "# Removing elements\n",
    "my_list.remove(3)\n",
    "\n",
    "# Display after removing elements\n",
    "print(\"List after removing elements:\", my_list)\n"
   ]
  },
  {
   "cell_type": "code",
   "execution_count": 4,
   "id": "a7f7c306",
   "metadata": {},
   "outputs": [
    {
     "name": "stdout",
     "output_type": "stream",
     "text": [
      "List after modifying elements: [1, 2, 10, 5, 6]\n"
     ]
    }
   ],
   "source": [
    "# Modifying elements\n",
    "my_list[2] = 10\n",
    "\n",
    "# Display after modifying elements\n",
    "print(\"List after modifying elements:\", my_list)"
   ]
  },
  {
   "cell_type": "markdown",
   "id": "0c062a82",
   "metadata": {},
   "source": [
    "DICTIONARY OPERATIONS"
   ]
  },
  {
   "cell_type": "code",
   "execution_count": 5,
   "id": "41f882b2",
   "metadata": {},
   "outputs": [
    {
     "name": "stdout",
     "output_type": "stream",
     "text": [
      "\n",
      "Original Dictionary: {'a': 1, 'b': 2, 'c': 3}\n"
     ]
    }
   ],
   "source": [
    "# Create a dictionary\n",
    "my_dict = {'a': 1, 'b': 2, 'c': 3}\n",
    "\n",
    "# Display original dictionary\n",
    "print(\"\\nOriginal Dictionary:\", my_dict)\n"
   ]
  },
  {
   "cell_type": "code",
   "execution_count": 6,
   "id": "8448be38",
   "metadata": {},
   "outputs": [
    {
     "name": "stdout",
     "output_type": "stream",
     "text": [
      "Dictionary after adding elements: {'a': 1, 'b': 2, 'c': 3, 'd': 4}\n"
     ]
    }
   ],
   "source": [
    "# Adding elements\n",
    "my_dict['d'] = 4\n",
    "\n",
    "# Display after adding elements\n",
    "print(\"Dictionary after adding elements:\", my_dict)\n"
   ]
  },
  {
   "cell_type": "code",
   "execution_count": 7,
   "id": "2f037fa1",
   "metadata": {},
   "outputs": [
    {
     "name": "stdout",
     "output_type": "stream",
     "text": [
      "Dictionary after removing elements: {'a': 1, 'c': 3, 'd': 4}\n"
     ]
    }
   ],
   "source": [
    "# Removing elements\n",
    "my_dict.pop('b')\n",
    "\n",
    "# Display after removing elements\n",
    "print(\"Dictionary after removing elements:\", my_dict)\n"
   ]
  },
  {
   "cell_type": "code",
   "execution_count": 8,
   "id": "bd964748",
   "metadata": {},
   "outputs": [
    {
     "name": "stdout",
     "output_type": "stream",
     "text": [
      "Dictionary after modifying elements: {'a': 'apple', 'c': 3, 'd': 4}\n"
     ]
    }
   ],
   "source": [
    "# Modifying elements\n",
    "my_dict['a'] = 'apple'\n",
    "\n",
    "# Display after modifying elements\n",
    "print(\"Dictionary after modifying elements:\", my_dict)"
   ]
  },
  {
   "cell_type": "markdown",
   "id": "8f786ebe",
   "metadata": {},
   "source": [
    "SET OPERATIONS"
   ]
  },
  {
   "cell_type": "code",
   "execution_count": 9,
   "id": "fa3d4fac",
   "metadata": {},
   "outputs": [
    {
     "name": "stdout",
     "output_type": "stream",
     "text": [
      "\n",
      "Original Set: {1, 2, 3, 4, 5}\n"
     ]
    }
   ],
   "source": [
    "# Create a set\n",
    "my_set = {1, 2, 3, 4, 5}\n",
    "\n",
    "# Display original set\n",
    "print(\"\\nOriginal Set:\", my_set)"
   ]
  },
  {
   "cell_type": "code",
   "execution_count": 10,
   "id": "01d3b59d",
   "metadata": {},
   "outputs": [
    {
     "name": "stdout",
     "output_type": "stream",
     "text": [
      "Set after adding elements: {1, 2, 3, 4, 5, 6}\n"
     ]
    }
   ],
   "source": [
    "# Adding elements\n",
    "my_set.add(6)\n",
    "\n",
    "# Display after adding elements\n",
    "print(\"Set after adding elements:\", my_set)\n"
   ]
  },
  {
   "cell_type": "code",
   "execution_count": 11,
   "id": "be920b16",
   "metadata": {},
   "outputs": [
    {
     "name": "stdout",
     "output_type": "stream",
     "text": [
      "Set after removing elements: {1, 2, 3, 5, 6}\n"
     ]
    }
   ],
   "source": [
    "# Removing elements\n",
    "my_set.remove(4)\n",
    "\n",
    "# Display after removing elements\n",
    "print(\"Set after removing elements:\", my_set)"
   ]
  },
  {
   "cell_type": "code",
   "execution_count": null,
   "id": "211994cd",
   "metadata": {},
   "outputs": [],
   "source": []
  }
 ],
 "metadata": {
  "kernelspec": {
   "display_name": "Python 3 (ipykernel)",
   "language": "python",
   "name": "python3"
  },
  "language_info": {
   "codemirror_mode": {
    "name": "ipython",
    "version": 3
   },
   "file_extension": ".py",
   "mimetype": "text/x-python",
   "name": "python",
   "nbconvert_exporter": "python",
   "pygments_lexer": "ipython3",
   "version": "3.9.7"
  }
 },
 "nbformat": 4,
 "nbformat_minor": 5
}
